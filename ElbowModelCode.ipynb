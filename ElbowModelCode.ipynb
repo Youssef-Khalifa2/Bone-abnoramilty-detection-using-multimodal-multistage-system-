{
 "cells": [
  {
   "cell_type": "code",
   "execution_count": 1,
   "id": "b99bdb63",
   "metadata": {
    "_cell_guid": "b1076dfc-b9ad-4769-8c92-a6c4dae69d19",
    "_uuid": "8f2839f25d086af736a60e9eeb907d3b93b6e0e5",
    "execution": {
     "iopub.execute_input": "2024-04-09T13:34:57.858220Z",
     "iopub.status.busy": "2024-04-09T13:34:57.857895Z",
     "iopub.status.idle": "2024-04-09T13:42:25.328353Z",
     "shell.execute_reply": "2024-04-09T13:42:25.327558Z"
    },
    "papermill": {
     "duration": 447.47804,
     "end_time": "2024-04-09T13:42:25.330593",
     "exception": false,
     "start_time": "2024-04-09T13:34:57.852553",
     "status": "completed"
    },
    "tags": []
   },
   "outputs": [
    {
     "name": "stderr",
     "output_type": "stream",
     "text": [
      "2024-04-09 13:35:02.416427: E external/local_xla/xla/stream_executor/cuda/cuda_dnn.cc:9261] Unable to register cuDNN factory: Attempting to register factory for plugin cuDNN when one has already been registered\n",
      "2024-04-09 13:35:02.416532: E external/local_xla/xla/stream_executor/cuda/cuda_fft.cc:607] Unable to register cuFFT factory: Attempting to register factory for plugin cuFFT when one has already been registered\n",
      "2024-04-09 13:35:02.570295: E external/local_xla/xla/stream_executor/cuda/cuda_blas.cc:1515] Unable to register cuBLAS factory: Attempting to register factory for plugin cuBLAS when one has already been registered\n"
     ]
    },
    {
     "name": "stdout",
     "output_type": "stream",
     "text": [
      "Found 19200 validated image filenames belonging to 2 classes.\n",
      "Found 4800 validated image filenames belonging to 2 classes.\n",
      "Found 465 validated image filenames belonging to 2 classes.\n"
     ]
    }
   ],
   "source": [
    "import numpy as np\n",
    "import pandas as pd\n",
    "import os.path\n",
    "import matplotlib.pyplot as plt\n",
    "from sklearn.model_selection import train_test_split\n",
    "import tensorflow as tf\n",
    "from tensorflow.keras.optimizers import Adam\n",
    "from tensorflow.keras.applications import DenseNet121  # Import DenseNet model\n",
    "from tensorflow.keras.applications import EfficientNetB0  # Import DenseNet model\n",
    "import random\n",
    "from tensorflow.keras.applications import VGG16\n",
    "from tensorflow.keras.layers import GlobalAveragePooling2D, Dense, Dropout\n",
    "import tensorflow as tf\n",
    "from tensorflow.keras.layers import Conv2D, BatchNormalization, Activation, Dense, MaxPooling2D, AveragePooling2D, Flatten, Concatenate\n",
    "from tensorflow.keras.models import Model\n",
    "from keras.models import load_model\n",
    "import os\n",
    "import cv2\n",
    "from keras import layers, Input, models, optimizers, losses\n",
    "from tensorflow.keras.models import save_model\n",
    "\n",
    "os.chdir(r'/kaggle/working')\n",
    "os.listdir('/kaggle/input')\n",
    "\n",
    "\n",
    "\n",
    "counter = 0\n",
    "\n",
    "def roi_clahe_pre_process(path, output_directory):\n",
    "    global counter  # Access the global counter variable\n",
    "\n",
    "    img = cv2.imread(path)\n",
    "\n",
    "    # Convert image to grayscale\n",
    "    gray = cv2.cvtColor(img, cv2.COLOR_BGR2GRAY)\n",
    "\n",
    "    # Apply thresholding\n",
    "    thresh = cv2.threshold(gray, 0, 255, cv2.THRESH_BINARY + cv2.THRESH_OTSU)[1]\n",
    "    # Determine bounding rectangle of the thresholded image\n",
    "    x, y, w, h = cv2.boundingRect(thresh)\n",
    "    x, y, w, h = x, y, w + 20, h + 20\n",
    "\n",
    "    # Crop the original image based on the bounding rectangle\n",
    "    img = img[y:y+h, x:x+w]\n",
    "\n",
    "    # Convert the cropped image to grayscale\n",
    "    gray_crop = cv2.cvtColor(img, cv2.COLOR_BGR2GRAY)\n",
    "\n",
    "    # Apply CLAHE\n",
    "    clahe = cv2.createCLAHE(clipLimit=2.0, tileGridSize=(8, 8))\n",
    "    clahe_img = clahe.apply(gray_crop)\n",
    "\n",
    "    # Construct the output file path\n",
    "    filename = os.path.basename(path)\n",
    "    output_filename = filename[:-4] + '__enhanced_' + str(counter) + filename[-4:]\n",
    "    output_path = os.path.join(output_directory, output_filename)\n",
    "\n",
    "    # Save the output image\n",
    "    cv2.imwrite(output_path, clahe_img)\n",
    "    # Increment the counter\n",
    "    counter += 1\n",
    "\n",
    "    return output_path\n",
    "\n",
    "\n",
    "def create_dataset(path,output_directory, num_fractured=12000, num_normal=12000):\n",
    "    dataset = []\n",
    "    fractured_count = 0\n",
    "    normal_count = 0\n",
    "\n",
    "    for id_p in os.listdir(path):\n",
    "        patient_id = id_p\n",
    "        path_id = path + '/' + str(id_p)\n",
    "        for lab in os.listdir(path_id):\n",
    "            if lab.split('_')[-1] == 'positive':\n",
    "                label = 1\n",
    "            elif lab.split('_')[-1] == 'negative':\n",
    "                label = 0\n",
    "            path_l = path_id + '/' + str(lab)\n",
    "            for img in os.listdir(path_l):\n",
    "                img_path = os.path.join(path_l, img)\n",
    "                img_path = roi_clahe_pre_process(img_path, output_directory)  # Apply CLAHE\n",
    "                if label == 1 and fractured_count < num_fractured:\n",
    "                    fractured_count += 1\n",
    "                    dataset.append({\n",
    "                        'label': label,\n",
    "                        'image_path': img_path\n",
    "                    })\n",
    "                if label == 0 and normal_count < num_normal:\n",
    "                    normal_count += 1\n",
    "                    dataset.append({\n",
    "                        'label': label,\n",
    "                        'image_path': img_path\n",
    "                    })\n",
    "    \n",
    "    random.shuffle(dataset)\n",
    "    return dataset\n",
    "\n",
    "# Load dataset into train and test df\n",
    "train_dir = ('/kaggle/input/better-mura/MURA-v1.1/MURA-v1.1/train_augmented/XR_ELBOW')\n",
    "output_directory = '/kaggle/working'\n",
    "traindata = create_dataset(train_dir,output_directory)\n",
    "trainfilepaths = []\n",
    "trainlabels = []\n",
    "\n",
    "\n",
    "for row in traindata:\n",
    "    trainfilepaths.append(row['image_path'])\n",
    "    trainlabels.append(row['label'])\n",
    "\n",
    "trainfilepaths = pd.Series(trainfilepaths, name='Filepath').astype(str)\n",
    "trainlabels = pd.Series(trainlabels, name='Label').astype(str)\n",
    "train_df = pd.concat([trainfilepaths, trainlabels], axis=1)\n",
    "\n",
    "test_dir = ('/kaggle/input/better-mura/MURA-v1.1/MURA-v1.1/valid/XR_ELBOW')\n",
    "testdata = create_dataset(test_dir,output_directory)\n",
    "testfilepaths = []\n",
    "testlabels = []\n",
    "\n",
    "for row in testdata:\n",
    "    testlabels.append(row['label'])\n",
    "    testfilepaths.append(row['image_path'])\n",
    "\n",
    "testfilepaths = pd.Series(testfilepaths, name='Filepath').astype(str)\n",
    "testlabels = pd.Series(testlabels, name='Label').astype(str)\n",
    "test_df = pd.concat([testfilepaths, testlabels], axis=1)\n",
    "\n",
    "#ImageDataGenerator for data augmentation and preprocessing\n",
    "train_generator = tf.keras.preprocessing.image.ImageDataGenerator(\n",
    "    preprocessing_function=tf.keras.applications.resnet50.preprocess_input,\n",
    "    validation_split=0.2)\n",
    "\n",
    "test_generator = tf.keras.preprocessing.image.ImageDataGenerator(\n",
    "    preprocessing_function=tf.keras.applications.resnet50.preprocess_input)\n",
    "# Data generators\n",
    "train_images = train_generator.flow_from_dataframe(\n",
    "    dataframe=train_df,\n",
    "    x_col='Filepath',\n",
    "    y_col='Label',\n",
    "    target_size=(224, 224),\n",
    "    color_mode='rgb',\n",
    "    class_mode='binary',\n",
    "    batch_size=32,\n",
    "    shuffle=True,\n",
    "    seed=42,\n",
    "    subset='training'\n",
    ")\n",
    "\n",
    "val_images = train_generator.flow_from_dataframe(\n",
    "    dataframe=train_df,\n",
    "    x_col='Filepath',\n",
    "    y_col='Label',\n",
    "    target_size=(224, 224),\n",
    "    color_mode='rgb',\n",
    "    class_mode='binary',\n",
    "    batch_size=32,\n",
    "    shuffle=True,\n",
    "    seed=42,\n",
    "    subset='validation'\n",
    ")\n",
    "\n",
    "test_images = test_generator.flow_from_dataframe(\n",
    "    dataframe=test_df,\n",
    "    x_col='Filepath',\n",
    "    y_col='Label',\n",
    "    target_size=(224, 224),\n",
    "    color_mode='rgb',\n",
    "    class_mode='binary',\n",
    "    batch_size=32,\n",
    "    shuffle=False\n",
    ")"
   ]
  },
  {
   "cell_type": "code",
   "execution_count": 2,
   "id": "d35230cd",
   "metadata": {
    "execution": {
     "iopub.execute_input": "2024-04-09T13:42:25.341550Z",
     "iopub.status.busy": "2024-04-09T13:42:25.340915Z",
     "iopub.status.idle": "2024-04-09T13:42:28.300038Z",
     "shell.execute_reply": "2024-04-09T13:42:28.299048Z"
    },
    "papermill": {
     "duration": 2.966844,
     "end_time": "2024-04-09T13:42:28.302509",
     "exception": false,
     "start_time": "2024-04-09T13:42:25.335665",
     "status": "completed"
    },
    "tags": []
   },
   "outputs": [
    {
     "name": "stdout",
     "output_type": "stream",
     "text": [
      "Downloading data from https://storage.googleapis.com/tensorflow/keras-applications/resnet/resnet50_weights_tf_dim_ordering_tf_kernels_notop.h5\n",
      "\u001b[1m94765736/94765736\u001b[0m \u001b[32m━━━━━━━━━━━━━━━━━━━━\u001b[0m\u001b[37m\u001b[0m \u001b[1m0s\u001b[0m 0us/step\n"
     ]
    }
   ],
   "source": [
    "pretrained_model = tf.keras.applications.resnet50.ResNet50(input_shape=(224, 224, 3), include_top=False, weights='imagenet', pooling='avg')\n",
    "\n",
    "inputs = pretrained_model.input\n",
    "x = tf.keras.layers.Dense(128, activation='relu')(pretrained_model.output)\n",
    "x = tf.keras.layers.Dense(50, activation='relu')(x)\n",
    "outputs = tf.keras.layers.Dense(1, activation='sigmoid')(x)\n",
    "model = tf.keras.Model(inputs, outputs)\n",
    "\n",
    "# Adam optimizer with low learning rate for better accuracy\n",
    "model.compile(optimizer=Adam(learning_rate=0.0001), loss='binary_crossentropy', metrics=['accuracy'])"
   ]
  },
  {
   "cell_type": "code",
   "execution_count": 3,
   "id": "c4c8b309",
   "metadata": {
    "execution": {
     "iopub.execute_input": "2024-04-09T13:42:28.313188Z",
     "iopub.status.busy": "2024-04-09T13:42:28.312873Z",
     "iopub.status.idle": "2024-04-09T14:24:38.845571Z",
     "shell.execute_reply": "2024-04-09T14:24:38.844418Z"
    },
    "papermill": {
     "duration": 2530.540947,
     "end_time": "2024-04-09T14:24:38.847947",
     "exception": false,
     "start_time": "2024-04-09T13:42:28.307000",
     "status": "completed"
    },
    "tags": []
   },
   "outputs": [
    {
     "name": "stdout",
     "output_type": "stream",
     "text": [
      "-------Training Elbow-------\n",
      "Epoch 1/60\n"
     ]
    },
    {
     "name": "stderr",
     "output_type": "stream",
     "text": [
      "/opt/conda/lib/python3.10/site-packages/keras/src/trainers/data_adapters/py_dataset_adapter.py:120: UserWarning: Your `PyDataset` class should call `super().__init__(**kwargs)` in its constructor. `**kwargs` can include `workers`, `use_multiprocessing`, `max_queue_size`. Do not pass these arguments to `fit()`, as they will be ignored.\n",
      "  self._warn_if_super_not_called()\n",
      "WARNING: All log messages before absl::InitializeLog() is called are written to STDERR\n",
      "I0000 00:00:1712670225.909161      73 device_compiler.h:186] Compiled cluster using XLA!  This line is logged at most once for the lifetime of the process.\n",
      "W0000 00:00:1712670226.008819      73 graph_launch.cc:671] Fallback to op-by-op mode because memset node breaks graph update\n"
     ]
    },
    {
     "name": "stdout",
     "output_type": "stream",
     "text": [
      "\u001b[1m600/600\u001b[0m \u001b[32m━━━━━━━━━━━━━━━━━━━━\u001b[0m\u001b[37m\u001b[0m \u001b[1m0s\u001b[0m 287ms/step - accuracy: 0.7678 - loss: 0.4508"
     ]
    },
    {
     "name": "stderr",
     "output_type": "stream",
     "text": [
      "W0000 00:00:1712670402.962651      73 graph_launch.cc:671] Fallback to op-by-op mode because memset node breaks graph update\n"
     ]
    },
    {
     "name": "stdout",
     "output_type": "stream",
     "text": [
      "\n",
      "Epoch 1: val_loss improved from inf to 0.53578, saving model to /kaggle/working/Resnet50_01_0.5358.keras\n",
      "\u001b[1m600/600\u001b[0m \u001b[32m━━━━━━━━━━━━━━━━━━━━\u001b[0m\u001b[37m\u001b[0m \u001b[1m270s\u001b[0m 320ms/step - accuracy: 0.7679 - loss: 0.4507 - val_accuracy: 0.8081 - val_loss: 0.5358 - learning_rate: 1.0000e-04\n",
      "Epoch 2/60\n",
      "\u001b[1m600/600\u001b[0m \u001b[32m━━━━━━━━━━━━━━━━━━━━\u001b[0m\u001b[37m\u001b[0m \u001b[1m0s\u001b[0m 290ms/step - accuracy: 0.9221 - loss: 0.1886\n",
      "Epoch 2: val_loss improved from 0.53578 to 0.26979, saving model to /kaggle/working/Resnet50_02_0.2698.keras\n",
      "\u001b[1m600/600\u001b[0m \u001b[32m━━━━━━━━━━━━━━━━━━━━\u001b[0m\u001b[37m\u001b[0m \u001b[1m189s\u001b[0m 313ms/step - accuracy: 0.9221 - loss: 0.1886 - val_accuracy: 0.8875 - val_loss: 0.2698 - learning_rate: 1.0000e-04\n",
      "Epoch 3/60\n",
      "\u001b[1m600/600\u001b[0m \u001b[32m━━━━━━━━━━━━━━━━━━━━\u001b[0m\u001b[37m\u001b[0m \u001b[1m0s\u001b[0m 289ms/step - accuracy: 0.9615 - loss: 0.0968\n",
      "Epoch 3: val_loss improved from 0.26979 to 0.21927, saving model to /kaggle/working/Resnet50_03_0.2193.keras\n",
      "\u001b[1m600/600\u001b[0m \u001b[32m━━━━━━━━━━━━━━━━━━━━\u001b[0m\u001b[37m\u001b[0m \u001b[1m188s\u001b[0m 313ms/step - accuracy: 0.9615 - loss: 0.0968 - val_accuracy: 0.9250 - val_loss: 0.2193 - learning_rate: 1.0000e-04\n",
      "Epoch 4/60\n",
      "\u001b[1m600/600\u001b[0m \u001b[32m━━━━━━━━━━━━━━━━━━━━\u001b[0m\u001b[37m\u001b[0m \u001b[1m187s\u001b[0m 311ms/step - accuracy: 0.9792 - loss: 0.0576 - val_accuracy: 0.9119 - val_loss: 0.3161 - learning_rate: 1.0000e-04\n",
      "Epoch 5/60\n",
      "\u001b[1m600/600\u001b[0m \u001b[32m━━━━━━━━━━━━━━━━━━━━\u001b[0m\u001b[37m\u001b[0m \u001b[1m0s\u001b[0m 290ms/step - accuracy: 0.9811 - loss: 0.0537\n",
      "Epoch 5: val_loss improved from 0.21927 to 0.19816, saving model to /kaggle/working/Resnet50_05_0.1982.keras\n",
      "\u001b[1m600/600\u001b[0m \u001b[32m━━━━━━━━━━━━━━━━━━━━\u001b[0m\u001b[37m\u001b[0m \u001b[1m189s\u001b[0m 313ms/step - accuracy: 0.9811 - loss: 0.0537 - val_accuracy: 0.9331 - val_loss: 0.1982 - learning_rate: 1.0000e-04\n",
      "Epoch 6/60\n",
      "\u001b[1m600/600\u001b[0m \u001b[32m━━━━━━━━━━━━━━━━━━━━\u001b[0m\u001b[37m\u001b[0m \u001b[1m187s\u001b[0m 310ms/step - accuracy: 0.9855 - loss: 0.0411 - val_accuracy: 0.9302 - val_loss: 0.2241 - learning_rate: 1.0000e-04\n",
      "Epoch 7/60\n",
      "\u001b[1m600/600\u001b[0m \u001b[32m━━━━━━━━━━━━━━━━━━━━\u001b[0m\u001b[37m\u001b[0m \u001b[1m187s\u001b[0m 311ms/step - accuracy: 0.9872 - loss: 0.0342 - val_accuracy: 0.9271 - val_loss: 0.3047 - learning_rate: 1.0000e-04\n",
      "Epoch 8/60\n",
      "\u001b[1m600/600\u001b[0m \u001b[32m━━━━━━━━━━━━━━━━━━━━\u001b[0m\u001b[37m\u001b[0m \u001b[1m0s\u001b[0m 290ms/step - accuracy: 0.9944 - loss: 0.0170\n",
      "Epoch 8: val_loss improved from 0.19816 to 0.17049, saving model to /kaggle/working/Resnet50_08_0.1705.keras\n",
      "\u001b[1m600/600\u001b[0m \u001b[32m━━━━━━━━━━━━━━━━━━━━\u001b[0m\u001b[37m\u001b[0m \u001b[1m190s\u001b[0m 315ms/step - accuracy: 0.9944 - loss: 0.0170 - val_accuracy: 0.9560 - val_loss: 0.1705 - learning_rate: 2.0000e-05\n",
      "Epoch 9/60\n",
      "\u001b[1m600/600\u001b[0m \u001b[32m━━━━━━━━━━━━━━━━━━━━\u001b[0m\u001b[37m\u001b[0m \u001b[1m187s\u001b[0m 311ms/step - accuracy: 0.9995 - loss: 0.0020 - val_accuracy: 0.9569 - val_loss: 0.1900 - learning_rate: 2.0000e-05\n",
      "Epoch 10/60\n",
      "\u001b[1m600/600\u001b[0m \u001b[32m━━━━━━━━━━━━━━━━━━━━\u001b[0m\u001b[37m\u001b[0m \u001b[1m188s\u001b[0m 311ms/step - accuracy: 0.9999 - loss: 0.0010 - val_accuracy: 0.9567 - val_loss: 0.2134 - learning_rate: 2.0000e-05\n",
      "Epoch 11/60\n",
      "\u001b[1m600/600\u001b[0m \u001b[32m━━━━━━━━━━━━━━━━━━━━\u001b[0m\u001b[37m\u001b[0m \u001b[1m187s\u001b[0m 311ms/step - accuracy: 1.0000 - loss: 4.3846e-04 - val_accuracy: 0.9558 - val_loss: 0.2130 - learning_rate: 4.0000e-06\n",
      "Epoch 12/60\n",
      "\u001b[1m600/600\u001b[0m \u001b[32m━━━━━━━━━━━━━━━━━━━━\u001b[0m\u001b[37m\u001b[0m \u001b[1m187s\u001b[0m 310ms/step - accuracy: 0.9999 - loss: 6.5254e-04 - val_accuracy: 0.9556 - val_loss: 0.2142 - learning_rate: 4.0000e-06\n",
      "Epoch 13/60\n",
      "\u001b[1m600/600\u001b[0m \u001b[32m━━━━━━━━━━━━━━━━━━━━\u001b[0m\u001b[37m\u001b[0m \u001b[1m187s\u001b[0m 311ms/step - accuracy: 1.0000 - loss: 3.5863e-04 - val_accuracy: 0.9560 - val_loss: 0.2105 - learning_rate: 8.0000e-07\n",
      "\u001b[1m15/15\u001b[0m \u001b[32m━━━━━━━━━━━━━━━━━━━━\u001b[0m\u001b[37m\u001b[0m \u001b[1m8s\u001b[0m 533ms/step - accuracy: 0.8663 - loss: 0.6177\n",
      "First Evaluation\n",
      "Elbow Results:\n",
      "[0.676069438457489, 0.8559139966964722]\n",
      "Test Accuracy: 85.59%\n"
     ]
    },
    {
     "name": "stderr",
     "output_type": "stream",
     "text": [
      "W0000 00:00:1712672678.821315      74 graph_launch.cc:671] Fallback to op-by-op mode because memset node breaks graph update\n"
     ]
    }
   ],
   "source": [
    "class CustomModelCheckpoint(tf.keras.callbacks.ModelCheckpoint):\n",
    "    def __init__(self, *args, **kwargs):\n",
    "        super().__init__(*args, **kwargs)\n",
    "\n",
    "    def on_epoch_end(self, epoch, logs=None):\n",
    "        logs = logs or {}\n",
    "        filepath = self.filepath.format(epoch=epoch + 1, **logs)\n",
    "        if self.save_best_only:\n",
    "            current = logs.get(self.monitor)\n",
    "            if current is None:\n",
    "                warnings.warn(f'Can save best model only with {self.monitor} available, skipping.')\n",
    "            else:\n",
    "                if self.monitor_op(current, self.best):\n",
    "                    if self.verbose > 0:\n",
    "                        print(f'\\nEpoch {epoch + 1}: {self.monitor} improved from {self.best:.5f} to {current:.5f}, saving model to {filepath}')\n",
    "                    self.best = current\n",
    "                    if self.save_weights_only:\n",
    "                        self.model.save(filepath, overwrite=True)\n",
    "                    else:\n",
    "                        self.model.save(filepath, overwrite=True)\n",
    "        else:\n",
    "            if self.verbose > 0:\n",
    "                print(f'\\nEpoch {epoch + 1}: saving model to {filepath}')\n",
    "            if self.save_weights_only:\n",
    "                self.model.save(filepath, overwrite=True)\n",
    "            else:\n",
    "                self.model.save(filepath, overwrite=True)\n",
    "\n",
    "# Define checkpoint path with a placeholder for epoch and metric values\n",
    "checkpoint_path = \"/kaggle/working/Resnet50_{epoch:02d}_{val_loss:.4f}.keras\"\n",
    "# Define early stopping callback\n",
    "callbacks = tf.keras.callbacks.EarlyStopping(monitor='val_loss', patience=5, restore_best_weights=True)\n",
    "\n",
    "learn_control = tf.keras.callbacks.ReduceLROnPlateau(monitor='val_loss', patience=2, factor=0.2, min_lr=1e-7)\n",
    "\n",
    "# Create a custom model checkpoint callback\n",
    "model_checkpoint = CustomModelCheckpoint(\n",
    "                        checkpoint_path,\n",
    "                        monitor='val_loss',\n",
    "                        save_best_only=True,\n",
    "                        save_weights_only=False,  # Save the whole model\n",
    "                        mode='min',\n",
    "                        verbose=1\n",
    "                    )\n",
    "\n",
    "# Train model\n",
    "print(\"-------Training Elbow\" + \"-------\")\n",
    "history = model.fit(train_images, batch_size=32, validation_data=val_images, epochs=60, callbacks=[callbacks, model_checkpoint, learn_control])\n",
    "\n",
    "# Evaluate model\n",
    "results = model.evaluate(test_images, verbose=1)\n",
    "print(\"First Evaluation\")\n",
    "print(\"Elbow Results:\")\n",
    "print(results)\n",
    "print(f\"Test Accuracy: {np.round(results[1] * 100, 2)}%\")"
   ]
  },
  {
   "cell_type": "code",
   "execution_count": 4,
   "id": "440e9842",
   "metadata": {
    "execution": {
     "iopub.execute_input": "2024-04-09T14:24:40.176024Z",
     "iopub.status.busy": "2024-04-09T14:24:40.175155Z",
     "iopub.status.idle": "2024-04-09T14:24:42.382133Z",
     "shell.execute_reply": "2024-04-09T14:24:42.381156Z"
    },
    "papermill": {
     "duration": 2.879334,
     "end_time": "2024-04-09T14:24:42.384158",
     "exception": false,
     "start_time": "2024-04-09T14:24:39.504824",
     "status": "completed"
    },
    "tags": []
   },
   "outputs": [
    {
     "name": "stdout",
     "output_type": "stream",
     "text": [
      "\u001b[1m15/15\u001b[0m \u001b[32m━━━━━━━━━━━━━━━━━━━━\u001b[0m\u001b[37m\u001b[0m \u001b[1m2s\u001b[0m 120ms/step - accuracy: 0.8663 - loss: 0.6177\n",
      "Second Evaluation\n",
      "Elbow Results 2:\n",
      "[0.676069438457489, 0.8559139966964722]\n",
      "Test Accuracy 2: 85.59%\n"
     ]
    }
   ],
   "source": [
    "results = model.evaluate(test_images, verbose=1)\n",
    "print(\"Second Evaluation\")\n",
    "print(\"Elbow Results 2:\")\n",
    "print(results)\n",
    "print(f\"Test Accuracy 2: {np.round(results[1] * 100, 2)}%\")"
   ]
  },
  {
   "cell_type": "code",
   "execution_count": 5,
   "id": "6a9ff0d3",
   "metadata": {
    "execution": {
     "iopub.execute_input": "2024-04-09T14:24:43.748082Z",
     "iopub.status.busy": "2024-04-09T14:24:43.747174Z",
     "iopub.status.idle": "2024-04-09T14:24:45.106633Z",
     "shell.execute_reply": "2024-04-09T14:24:45.105345Z"
    },
    "papermill": {
     "duration": 2.017024,
     "end_time": "2024-04-09T14:24:45.109086",
     "exception": false,
     "start_time": "2024-04-09T14:24:43.092062",
     "status": "completed"
    },
    "tags": []
   },
   "outputs": [],
   "source": [
    "modelpath=\"/kaggle/working/ResNet50.keras\"\n",
    "model.save(modelpath)"
   ]
  },
  {
   "cell_type": "code",
   "execution_count": 6,
   "id": "c36454fa",
   "metadata": {
    "execution": {
     "iopub.execute_input": "2024-04-09T14:24:46.470802Z",
     "iopub.status.busy": "2024-04-09T14:24:46.470117Z",
     "iopub.status.idle": "2024-04-09T14:25:01.530678Z",
     "shell.execute_reply": "2024-04-09T14:25:01.529364Z"
    },
    "papermill": {
     "duration": 15.771462,
     "end_time": "2024-04-09T14:25:01.533311",
     "exception": false,
     "start_time": "2024-04-09T14:24:45.761849",
     "status": "completed"
    },
    "tags": []
   },
   "outputs": [
    {
     "name": "stdout",
     "output_type": "stream",
     "text": [
      "\u001b[1m15/15\u001b[0m \u001b[32m━━━━━━━━━━━━━━━━━━━━\u001b[0m\u001b[37m\u001b[0m \u001b[1m2s\u001b[0m 118ms/step - accuracy: 0.8663 - loss: 0.6177\n",
      "Loaded Model Results\n",
      "Elbow Results:\n",
      "[0.676069438457489, 0.8559139966964722]\n",
      "Test Accuracy: 85.59%\n"
     ]
    }
   ],
   "source": [
    "Elbow_Model = load_model(modelpath)\n",
    "results = model.evaluate(test_images, verbose=1)\n",
    "print(\"Loaded Model Results\")\n",
    "print(\"Elbow Results:\")\n",
    "print(results)\n",
    "print(f\"Test Accuracy: {np.round(results[1] * 100, 2)}%\")"
   ]
  },
  {
   "cell_type": "code",
   "execution_count": 7,
   "id": "f7df8e12",
   "metadata": {
    "execution": {
     "iopub.execute_input": "2024-04-09T14:25:02.938762Z",
     "iopub.status.busy": "2024-04-09T14:25:02.937899Z",
     "iopub.status.idle": "2024-04-09T14:27:10.152784Z",
     "shell.execute_reply": "2024-04-09T14:27:10.151670Z"
    },
    "papermill": {
     "duration": 127.921142,
     "end_time": "2024-04-09T14:27:10.154987",
     "exception": false,
     "start_time": "2024-04-09T14:25:02.233845",
     "status": "completed"
    },
    "tags": []
   },
   "outputs": [
    {
     "name": "stdout",
     "output_type": "stream",
     "text": [
      "\u001b[1m 2/15\u001b[0m \u001b[32m━━\u001b[0m\u001b[37m━━━━━━━━━━━━━━━━━━\u001b[0m \u001b[1m1s\u001b[0m 118ms/step - accuracy: 0.8906 - loss: 0.4575"
     ]
    },
    {
     "name": "stderr",
     "output_type": "stream",
     "text": [
      "W0000 00:00:1712672720.647498      76 graph_launch.cc:671] Fallback to op-by-op mode because memset node breaks graph update\n"
     ]
    },
    {
     "name": "stdout",
     "output_type": "stream",
     "text": [
      "\u001b[1m15/15\u001b[0m \u001b[32m━━━━━━━━━━━━━━━━━━━━\u001b[0m\u001b[37m\u001b[0m \u001b[1m8s\u001b[0m 235ms/step - accuracy: 0.8663 - loss: 0.6177\n"
     ]
    },
    {
     "name": "stderr",
     "output_type": "stream",
     "text": [
      "W0000 00:00:1712672724.001993      75 graph_launch.cc:671] Fallback to op-by-op mode because memset node breaks graph update\n"
     ]
    },
    {
     "name": "stdout",
     "output_type": "stream",
     "text": [
      "Model: ResNet50.keras\n",
      "Test Results:\n",
      "Loss: 0.676069438457489\n",
      "Accuracy: 0.8559139966964722\n",
      "\n",
      "\u001b[1m 2/15\u001b[0m \u001b[32m━━\u001b[0m\u001b[37m━━━━━━━━━━━━━━━━━━\u001b[0m \u001b[1m1s\u001b[0m 96ms/step - accuracy: 0.7969 - loss: 0.7234"
     ]
    },
    {
     "name": "stderr",
     "output_type": "stream",
     "text": [
      "W0000 00:00:1712672741.611207      74 graph_launch.cc:671] Fallback to op-by-op mode because memset node breaks graph update\n"
     ]
    },
    {
     "name": "stdout",
     "output_type": "stream",
     "text": [
      "\u001b[1m15/15\u001b[0m \u001b[32m━━━━━━━━━━━━━━━━━━━━\u001b[0m\u001b[37m\u001b[0m \u001b[1m9s\u001b[0m 244ms/step - accuracy: 0.8026 - loss: 0.6390\n"
     ]
    },
    {
     "name": "stderr",
     "output_type": "stream",
     "text": [
      "W0000 00:00:1712672745.104951      76 graph_launch.cc:671] Fallback to op-by-op mode because memset node breaks graph update\n"
     ]
    },
    {
     "name": "stdout",
     "output_type": "stream",
     "text": [
      "Model: Resnet50_03_0.2193.keras\n",
      "Test Results:\n",
      "Loss: 0.6429724097251892\n",
      "Accuracy: 0.802150547504425\n",
      "\n",
      "\u001b[1m 2/15\u001b[0m \u001b[32m━━\u001b[0m\u001b[37m━━━━━━━━━━━━━━━━━━\u001b[0m \u001b[1m1s\u001b[0m 99ms/step - accuracy: 0.7656 - loss: 0.4420"
     ]
    },
    {
     "name": "stderr",
     "output_type": "stream",
     "text": [
      "W0000 00:00:1712672763.344582      74 graph_launch.cc:671] Fallback to op-by-op mode because memset node breaks graph update\n"
     ]
    },
    {
     "name": "stdout",
     "output_type": "stream",
     "text": [
      "\u001b[1m15/15\u001b[0m \u001b[32m━━━━━━━━━━━━━━━━━━━━\u001b[0m\u001b[37m\u001b[0m \u001b[1m9s\u001b[0m 248ms/step - accuracy: 0.7897 - loss: 0.4639\n"
     ]
    },
    {
     "name": "stderr",
     "output_type": "stream",
     "text": [
      "W0000 00:00:1712672766.877808      75 graph_launch.cc:671] Fallback to op-by-op mode because memset node breaks graph update\n"
     ]
    },
    {
     "name": "stdout",
     "output_type": "stream",
     "text": [
      "Model: Resnet50_02_0.2698.keras\n",
      "Test Results:\n",
      "Loss: 0.48700040578842163\n",
      "Accuracy: 0.7892473340034485\n",
      "\n",
      "\u001b[1m 2/15\u001b[0m \u001b[32m━━\u001b[0m\u001b[37m━━━━━━━━━━━━━━━━━━\u001b[0m \u001b[1m1s\u001b[0m 116ms/step - accuracy: 0.7656 - loss: 0.6638"
     ]
    },
    {
     "name": "stderr",
     "output_type": "stream",
     "text": [
      "W0000 00:00:1712672784.312002      75 graph_launch.cc:671] Fallback to op-by-op mode because memset node breaks graph update\n"
     ]
    },
    {
     "name": "stdout",
     "output_type": "stream",
     "text": [
      "\u001b[1m15/15\u001b[0m \u001b[32m━━━━━━━━━━━━━━━━━━━━\u001b[0m\u001b[37m\u001b[0m \u001b[1m9s\u001b[0m 241ms/step - accuracy: 0.7939 - loss: 0.6386\n"
     ]
    },
    {
     "name": "stderr",
     "output_type": "stream",
     "text": [
      "W0000 00:00:1712672787.748936      73 graph_launch.cc:671] Fallback to op-by-op mode because memset node breaks graph update\n"
     ]
    },
    {
     "name": "stdout",
     "output_type": "stream",
     "text": [
      "Model: Resnet50_01_0.5358.keras\n",
      "Test Results:\n",
      "Loss: 0.6539945602416992\n",
      "Accuracy: 0.800000011920929\n",
      "\n",
      "\u001b[1m 2/15\u001b[0m \u001b[32m━━\u001b[0m\u001b[37m━━━━━━━━━━━━━━━━━━\u001b[0m \u001b[1m1s\u001b[0m 118ms/step - accuracy: 0.8281 - loss: 0.8730"
     ]
    },
    {
     "name": "stderr",
     "output_type": "stream",
     "text": [
      "W0000 00:00:1712672805.372530      75 graph_launch.cc:671] Fallback to op-by-op mode because memset node breaks graph update\n"
     ]
    },
    {
     "name": "stdout",
     "output_type": "stream",
     "text": [
      "\u001b[1m15/15\u001b[0m \u001b[32m━━━━━━━━━━━━━━━━━━━━\u001b[0m\u001b[37m\u001b[0m \u001b[1m9s\u001b[0m 236ms/step - accuracy: 0.8285 - loss: 0.6641\n"
     ]
    },
    {
     "name": "stderr",
     "output_type": "stream",
     "text": [
      "W0000 00:00:1712672808.753048      75 graph_launch.cc:671] Fallback to op-by-op mode because memset node breaks graph update\n"
     ]
    },
    {
     "name": "stdout",
     "output_type": "stream",
     "text": [
      "Model: Resnet50_05_0.1982.keras\n",
      "Test Results:\n",
      "Loss: 0.6153351068496704\n",
      "Accuracy: 0.8301075100898743\n",
      "\n",
      "\u001b[1m 1/15\u001b[0m \u001b[32m━\u001b[0m\u001b[37m━━━━━━━━━━━━━━━━━━━\u001b[0m \u001b[1m1:14\u001b[0m 5s/step - accuracy: 0.9062 - loss: 0.4779"
     ]
    },
    {
     "name": "stderr",
     "output_type": "stream",
     "text": [
      "W0000 00:00:1712672826.448365      75 graph_launch.cc:671] Fallback to op-by-op mode because memset node breaks graph update\n"
     ]
    },
    {
     "name": "stdout",
     "output_type": "stream",
     "text": [
      "\u001b[1m15/15\u001b[0m \u001b[32m━━━━━━━━━━━━━━━━━━━━\u001b[0m\u001b[37m\u001b[0m \u001b[1m9s\u001b[0m 258ms/step - accuracy: 0.8663 - loss: 0.6177\n",
      "Model: Resnet50_08_0.1705.keras\n",
      "Test Results:\n",
      "Loss: 0.676069438457489\n",
      "Accuracy: 0.8559139966964722\n",
      "\n"
     ]
    },
    {
     "name": "stderr",
     "output_type": "stream",
     "text": [
      "W0000 00:00:1712672830.114584      73 graph_launch.cc:671] Fallback to op-by-op mode because memset node breaks graph update\n"
     ]
    }
   ],
   "source": [
    "import os\n",
    "from keras.models import load_model\n",
    "\n",
    "# Directory containing the model files\n",
    "model_directory = '/kaggle/working'\n",
    "\n",
    "# Get a list of all .keras files in the model directory\n",
    "model_files = [f for f in os.listdir(model_directory) if f.endswith('.keras')]\n",
    "\n",
    "# Iterate over each model file\n",
    "for model_file in model_files:\n",
    "    # Load the model\n",
    "    loaded_model = load_model(os.path.join(model_directory, model_file))\n",
    "    \n",
    "    # Evaluate the model on the test dataset\n",
    "    results = loaded_model.evaluate(test_images, verbose=1)\n",
    "    \n",
    "    # Print the results\n",
    "    print(f\"Model: {model_file}\")\n",
    "    print(\"Test Results:\")\n",
    "    print(f\"Loss: {results[0]}\")\n",
    "    print(f\"Accuracy: {results[1]}\")\n",
    "    print()"
   ]
  }
 ],
 "metadata": {
  "kaggle": {
   "accelerator": "nvidiaTeslaT4",
   "dataSources": [
    {
     "datasetId": 4358814,
     "sourceId": 7921122,
     "sourceType": "datasetVersion"
    }
   ],
   "dockerImageVersionId": 30683,
   "isGpuEnabled": true,
   "isInternetEnabled": true,
   "language": "python",
   "sourceType": "notebook"
  },
  "kernelspec": {
   "display_name": "Python 3",
   "language": "python",
   "name": "python3"
  },
  "language_info": {
   "codemirror_mode": {
    "name": "ipython",
    "version": 3
   },
   "file_extension": ".py",
   "mimetype": "text/x-python",
   "name": "python",
   "nbconvert_exporter": "python",
   "pygments_lexer": "ipython3",
   "version": "3.10.13"
  },
  "papermill": {
   "default_parameters": {},
   "duration": 3139.215882,
   "end_time": "2024-04-09T14:27:13.985246",
   "environment_variables": {},
   "exception": null,
   "input_path": "__notebook__.ipynb",
   "output_path": "__notebook__.ipynb",
   "parameters": {},
   "start_time": "2024-04-09T13:34:54.769364",
   "version": "2.5.0"
  }
 },
 "nbformat": 4,
 "nbformat_minor": 5
}
